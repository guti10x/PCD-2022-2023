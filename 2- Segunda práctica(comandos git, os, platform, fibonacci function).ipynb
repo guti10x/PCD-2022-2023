{
  "metadata": {
    "language_info": {
      "codemirror_mode": {
        "name": "python",
        "version": 3
      },
      "file_extension": ".py",
      "mimetype": "text/x-python",
      "name": "python",
      "nbconvert_exporter": "python",
      "pygments_lexer": "ipython3",
      "version": "3.8"
    },
    "kernelspec": {
      "name": "python",
      "display_name": "Python (Pyodide)",
      "language": "python"
    }
  },
  "nbformat_minor": 4,
  "nbformat": 4,
  "cells": [
    {
      "cell_type": "markdown",
      "source": "<h1 style = \"text-align:center; font-size: 30px\">PROGRAMACIÓN CONCURRENTE Y DISTRIBUIDA</h1>\n<a href =\"https://github.com/guti10x\">\n<img src=\"https://avatars.githubusercontent.com/u/82153822?s=400&u=473adc926b3c9ecc954604007d18a37c50bd1c26&v=4\" style=\"float:left;vertical-align:centre\" width=\"110\" height=\"110\" title = \"Daniel Gutiérrez Torres 22060943\">\n<a href =\"https://github.com/guti10x\">\n<img src=\"https://media-exp1.licdn.com/dms/image/C4D0BAQEu_Aa76fcmPw/company-logo_200_200/0/1630998679429?e=2159024400&v=beta&t=2feC9GG7RWCWizTqsK5HzDWB1TL2DOQuAVwnMf6FFvk\" title = \"M41\" alt=\"UE\" width=\"110\" height=\"110\" style=\"float:right;vertical-align:centre\">",
      "metadata": {}
    },
    {
      "cell_type": "markdown",
      "source": "#### -Concurrencia: capacidad para ejecutar dos o mas procesos en un determinado espacio de tiempo\n#### -Paralelismo: capacidad de ejecutar varios procesos en el mismo punto de tiempo \n#### -Siempre que hay concurrencia hay paralelislo \n#### -Siempre q hay paralelismo, no siemore hay concurrencia\n#### -input/output (descargas) carácter concurrente (se van intercambiando los procesos)\n#### -busquedas carácter paralelo (problema que puedes partir) (procesos al mismo tiempo)\n#### -Arquitecturas que soportan concurrente: Sistemas multicore, distribuidos, de tipo compartido\n#### -Sistemas enbebidos\n#### -SIMBD : single instruction multiple data\n#### -Memoria compartida/distribuida\n",
      "metadata": {}
    },
    {
      "cell_type": "markdown",
      "source": "## Comandos basicos git:",
      "metadata": {}
    },
    {
      "cell_type": "code",
      "source": "!git --version ",
      "metadata": {},
      "execution_count": null,
      "outputs": []
    },
    {
      "cell_type": "code",
      "source": "!git --help",
      "metadata": {},
      "execution_count": null,
      "outputs": []
    },
    {
      "cell_type": "code",
      "source": "!git help git",
      "metadata": {},
      "execution_count": null,
      "outputs": []
    },
    {
      "cell_type": "code",
      "source": "!git status",
      "metadata": {},
      "execution_count": null,
      "outputs": []
    },
    {
      "cell_type": "code",
      "source": "!git push -u origin main",
      "metadata": {},
      "execution_count": null,
      "outputs": []
    },
    {
      "cell_type": "code",
      "source": "!git commit -m \"Added profile code\"",
      "metadata": {},
      "execution_count": null,
      "outputs": []
    },
    {
      "cell_type": "code",
      "source": "!git status",
      "metadata": {},
      "execution_count": null,
      "outputs": []
    },
    {
      "cell_type": "code",
      "source": "!git add .",
      "metadata": {},
      "execution_count": null,
      "outputs": []
    },
    {
      "cell_type": "code",
      "source": "!git push -u origin main",
      "metadata": {},
      "execution_count": null,
      "outputs": []
    },
    {
      "cell_type": "code",
      "source": "! git status",
      "metadata": {},
      "execution_count": null,
      "outputs": []
    },
    {
      "cell_type": "code",
      "source": "! git add .",
      "metadata": {},
      "execution_count": null,
      "outputs": []
    },
    {
      "cell_type": "code",
      "source": "! git push -u origin main",
      "metadata": {},
      "execution_count": null,
      "outputs": []
    },
    {
      "cell_type": "markdown",
      "source": "### Mi pc es una basura?",
      "metadata": {}
    },
    {
      "cell_type": "code",
      "source": "import os, platform as pl",
      "metadata": {
        "trusted": true
      },
      "execution_count": 1,
      "outputs": []
    },
    {
      "cell_type": "markdown",
      "source": "#### Contar numero de cores",
      "metadata": {}
    },
    {
      "cell_type": "code",
      "source": "os.cpu_count()",
      "metadata": {
        "trusted": true
      },
      "execution_count": 2,
      "outputs": [
        {
          "execution_count": 2,
          "output_type": "execute_result",
          "data": {
            "text/plain": "1"
          },
          "metadata": {}
        }
      ]
    },
    {
      "cell_type": "markdown",
      "source": "#### Información del sistema ",
      "metadata": {}
    },
    {
      "cell_type": "code",
      "source": "pl.uname()",
      "metadata": {
        "trusted": true
      },
      "execution_count": 4,
      "outputs": [
        {
          "execution_count": 4,
          "output_type": "execute_result",
          "data": {
            "text/plain": "uname_result(system='Emscripten', node='emscripten', release='3.1.14', version='#1', machine='wasm32')"
          },
          "metadata": {}
        }
      ]
    },
    {
      "cell_type": "code",
      "source": "",
      "metadata": {},
      "execution_count": null,
      "outputs": []
    },
    {
      "cell_type": "code",
      "source": "import IPython as ipy",
      "metadata": {
        "trusted": true
      },
      "execution_count": null,
      "outputs": []
    },
    {
      "cell_type": "code",
      "source": "ipy.display(\"https://quantdare.com/wp-content/uploads/2014/09/sin-tc3adtulo9.png\")",
      "metadata": {
        "trusted": true
      },
      "execution_count": null,
      "outputs": []
    },
    {
      "cell_type": "code",
      "source": "def fib(n):\n    if n in {0,1}: \n        return n \n    else:\n        return (fib(n-1) + fib(n-2))",
      "metadata": {
        "trusted": true
      },
      "execution_count": 18,
      "outputs": []
    },
    {
      "cell_type": "code",
      "source": "fib(80)",
      "metadata": {
        "trusted": true
      },
      "execution_count": null,
      "outputs": []
    },
    {
      "cell_type": "code",
      "source": "",
      "metadata": {},
      "execution_count": null,
      "outputs": []
    }
  ]
}