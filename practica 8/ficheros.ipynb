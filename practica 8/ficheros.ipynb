{
  "metadata": {
    "language_info": {
      "codemirror_mode": {
        "name": "python",
        "version": 3
      },
      "file_extension": ".py",
      "mimetype": "text/x-python",
      "name": "python",
      "nbconvert_exporter": "python",
      "pygments_lexer": "ipython3",
      "version": "3.8"
    },
    "kernelspec": {
      "name": "python",
      "display_name": "Python (Pyodide)",
      "language": "python"
    }
  },
  "nbformat_minor": 4,
  "nbformat": 4,
  "cells": [
    {
      "cell_type": "markdown",
      "source": "<h1 style = \"text-align:center; font-size: 30px\">PROGRAMACIÓN CONCURRENTE Y DISTRIBUIDA</h1>\n<a href =\"https://github.com/guti10x\">\n<img src=\"https://avatars.githubusercontent.com/u/82153822?s=400&u=473adc926b3c9ecc954604007d18a37c50bd1c26&v=4\" style=\"float:left;vertical-align:centre\" width=\"110\" height=\"110\" title = \"Daniel Gutiérrez Torres 22060943\">\n<a href =\"https://github.com/guti10x\">\n<img src=\"https://media-exp1.licdn.com/dms/image/C4D0BAQEu_Aa76fcmPw/company-logo_200_200/0/1630998679429?e=2159024400&v=beta&t=2feC9GG7RWCWizTqsK5HzDWB1TL2DOQuAVwnMf6FFvk\" title = \"M41\" alt=\"UE\" width=\"110\" height=\"110\" style=\"float:right;vertical-align:centre\">",
      "metadata": {}
    },
    {
      "cell_type": "markdown",
      "source": "# Archivo",
      "metadata": {}
    },
    {
      "cell_type": "markdown",
      "source": "### Modos de crear archivos\n#### 'a'ppend\n#### 'r'ead\n#### 'w'rite\n#### 'c'reate",
      "metadata": {}
    },
    {
      "cell_type": "code",
      "source": "with open(\"uem22060943.txt\",'a') as f: \n    nick=input(\"ingrese el nickname: \")\n    f.write(\"nick\")",
      "metadata": {
        "trusted": true
      },
      "execution_count": 12,
      "outputs": [
        {
          "output_type": "stream",
          "name": "stdin",
          "text": "ingrese el nickname:  hila\n"
        }
      ]
    },
    {
      "cell_type": "markdown",
      "source": "!ls uem22060943.txt",
      "metadata": {}
    },
    {
      "cell_type": "code",
      "source": "import spcket as sc\ns=sc.socket()\ns.blind(host,port)\nip_=sc.gethostbyname(sc.gethostname())\nip_[2][1]\ns.connect(\"www.universidadeuropea.es\",3424)\n\n",
      "metadata": {},
      "execution_count": null,
      "outputs": []
    },
    {
      "cell_type": "code",
      "source": "gethostbyname(www. )",
      "metadata": {},
      "execution_count": null,
      "outputs": []
    }
  ]
}