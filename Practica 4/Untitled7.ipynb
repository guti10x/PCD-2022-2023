{
  "metadata": {
    "language_info": {
      "codemirror_mode": {
        "name": "python",
        "version": 3
      },
      "file_extension": ".py",
      "mimetype": "text/x-python",
      "name": "python",
      "nbconvert_exporter": "python",
      "pygments_lexer": "ipython3",
      "version": "3.8"
    },
    "kernelspec": {
      "name": "python",
      "display_name": "Python (Pyodide)",
      "language": "python"
    }
  },
  "nbformat_minor": 4,
  "nbformat": 4,
  "cells": [
    {
      "cell_type": "markdown",
      "source": "<h1 style = \"text-align:center; font-size: 30px\">PROGRAMACIÓN CONCURRENTE Y DISTRIBUIDA</h1>\n<a href =\"https://github.com/guti10x\">\n<img src=\"https://avatars.githubusercontent.com/u/82153822?s=400&u=473adc926b3c9ecc954604007d18a37c50bd1c26&v=4\" style=\"float:left;vertical-align:centre\" width=\"110\" height=\"110\" title = \"Daniel Gutiérrez Torres 22060943\">\n<a href =\"https://github.com/guti10x\">\n<img src=\"https://media-exp1.licdn.com/dms/image/C4D0BAQEu_Aa76fcmPw/company-logo_200_200/0/1630998679429?e=2159024400&v=beta&t=2feC9GG7RWCWizTqsK5HzDWB1TL2DOQuAVwnMf6FFvk\" title = \"M41\" alt=\"UE\" width=\"110\" height=\"110\" style=\"float:right;vertical-align:centre\">",
      "metadata": {}
    },
    {
      "cell_type": "code",
      "source": "SEQ\n\nPAR                    DRIVER                    \n\nDOWNLOADER",
      "metadata": {},
      "execution_count": null,
      "outputs": []
    },
    {
      "cell_type": "code",
      "source": "import time, urllib, request, multicore, concurrent.futures ",
      "metadata": {},
      "execution_count": null,
      "outputs": []
    },
    {
      "cell_type": "code",
      "source": "def seq_download_images(img_numbers):\n    total bytes=0;\n    for num in img_numbers:\n            total_bytes+= _download_image(num)\n            return total_bytes",
      "metadata": {},
      "execution_count": null,
      "outputs": []
    },
    {
      "cell_type": "code",
      "source": "def _download_image(image_number):\n    print(image_number)\n    img_url=´http://699340.youcanlearnit.net/image{:03d.jpg}´.format(image_number)\n    try:\n        with urllib.request.urlopen(image_url,timeout=60) as conn:\n            return len(conn)",
      "metadata": {},
      "execution_count": null,
      "outputs": []
    },
    {
      "cell_type": "code",
      "source": "def par_download_imagenes(image_numbers):\n    total bytes=0;\n    with concurrent.features.ThreadPoolExecutor() as pool;\n    futures=[pool.submit(_download_img, num)] for num in image_numbers\n    ",
      "metadata": {},
      "execution_count": null,
      "outputs": []
    },
    {
      "cell_type": "code",
      "source": "if __name__==`__main__`\n    NUM_EVAL_RUNS=3\n    IMAGE_NUMBERS=list(range(1,4))\n    sequential_result=seq_downloa_images(IMGAGE_NUMBERS)\n    sequential_time=0\n    for i in range (NUM_EVAL_RUNS):\n        PRINT(i);\n        start=time.perf_counter()\n        seq_download_images(IMAGE_NUMBERS)\n        sequential_time/= NUM_EVAL_RUNS\n        parallel_result=par_download_images(IMAGE_NUMBERS)\n        parallel_time=0\n        for i in range (NUM_EVAL_RUNS):\n            print(i)\n            start= time.perf_counter()\n            seq_download_images(IMAGE_NUMBERS)\n            sequential_time+= time.perf_counter()\n            seq_download_images(IMGAGE_NUMBERS)\n            parallel_time=0\n            for i in range (NUM_EVAL_RUNS)\n                start=time.perf_counter()-start\n                par_download_images(IMGAGE_NUMBERS)\n                parallel_time+=\n        \n        \n        \n        if sequential_result=! parallel_result:\n            raise Exception (sequential_result and parallel_result do not match.`)\n        print (`ave`)\n        print ()\n        print ()\n        print ()",
      "metadata": {},
      "execution_count": null,
      "outputs": []
    },
    {
      "cell_type": "code",
      "source": "",
      "metadata": {},
      "execution_count": null,
      "outputs": []
    },
    {
      "cell_type": "code",
      "source": "",
      "metadata": {},
      "execution_count": null,
      "outputs": []
    }
  ]
}