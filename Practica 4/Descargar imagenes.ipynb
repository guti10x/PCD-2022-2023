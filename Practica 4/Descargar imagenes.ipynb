{
  "metadata": {
    "kernelspec": {
      "name": "python",
      "display_name": "Python (Pyodide)",
      "language": "python"
    },
    "language_info": {
      "codemirror_mode": {
        "name": "python",
        "version": 3
      },
      "file_extension": ".py",
      "mimetype": "text/x-python",
      "name": "python",
      "nbconvert_exporter": "python",
      "pygments_lexer": "ipython3",
      "version": "3.8"
    }
  },
  "nbformat_minor": 5,
  "nbformat": 4,
  "cells": [
    {
      "cell_type": "markdown",
      "source": "<h1 style = \"text-align:center; font-size: 30px\">PROGRAMACIÓN CONCURRENTE Y DISTRIBUIDA</h1>\n<a href =\"https://github.com/guti10x\">\n<img src=\"https://avatars.githubusercontent.com/u/82153822?s=400&u=473adc926b3c9ecc954604007d18a37c50bd1c26&v=4\" style=\"float:left;vertical-align:centre\" width=\"110\" height=\"110\" title = \"Daniel Gutiérrez Torres 22060943\">\n<a href =\"https://github.com/guti10x\">\n<img src=\"https://media-exp1.licdn.com/dms/image/C4D0BAQEu_Aa76fcmPw/company-logo_200_200/0/1630998679429?e=2159024400&v=beta&t=2feC9GG7RWCWizTqsK5HzDWB1TL2DOQuAVwnMf6FFvk\" title = \"M41\" alt=\"UE\" width=\"110\" height=\"110\" style=\"float:right;vertical-align:centre\">",
      "metadata": {},
      "id": "07acfae9-c1e9-47e1-9cde-c56b8d019a00"
    },
    {
      "cell_type": "code",
      "source": "import time,urllib.request ,multiprocessing as mp , concurrent.futures",
      "metadata": {
        "trusted": true
      },
      "execution_count": 1,
      "outputs": [],
      "id": "9af979dc-19b6-4bcb-af01-75ece2cdcfcc"
    },
    {
      "cell_type": "code",
      "source": "def seq_download_images(img_numbers):\n    total_bytes=0\n    for num in img_numbers:\n        total_bytes += _download_image(num)\n    return total_bytes",
      "metadata": {
        "trusted": true
      },
      "execution_count": 2,
      "outputs": [],
      "id": "81861649-cea0-4a6a-9d92-a987211b866e"
    },
    {
      "cell_type": "code",
      "source": "\ndef _download_image(image_number): \n    print(image_number)\n    image_url = 'http://699340.youcanlearnit.net/image{:03d}.jpg'.format(image_number) \n    try: \n        with urllib.request.urlopen(image_url, timeout=60) as conn: \n            return len(conn.read()) \n    except urlib.error.HTTPError: \n        print('Oh god',image_number)\n    except Exception as e:\n        print(e)",
      "metadata": {
        "trusted": true
      },
      "execution_count": 3,
      "outputs": [],
      "id": "dee5c691-d26b-40fa-809f-4b5b233933e4"
    },
    {
      "cell_type": "code",
      "source": "def par_download_images(image_numbers): \n    total_bytes = 0\n    with concurrent.futures.ThreadPoolExecutor() as pool:\n        futures = [pool.submit(_download_image, num) for num in image_numbers] \n        for f in concurrent.futures.as_completed(futures): \n            total_bytes += f.result() \n    return total_bytes ",
      "metadata": {
        "trusted": true
      },
      "execution_count": 4,
      "outputs": [],
      "id": "9b797235-e49e-469c-b1c0-c0ebb1f957b6"
    },
    {
      "cell_type": "code",
      "source": "if __name__ == '__main__':\n    NUM_EVAL_RUNS = 3 \n    IMAGE_NUMBERS=list(range(1,4))\n    sequential_result=seq_download_images(IMAGE_NUMBERS)\n    sequential_time=0 \n    for i in range (NUM_EVAL_RUNS):\n        print(i)\n        start = time.perf_counter()\n        seq_download_images(IMAGE_NUMBERS)\n        sequential_time+=  time.perf_counter() - start\n    sequential_time/=NUM_EVAL_RUNS\n    parallel_result=par_download_images(IMAGE_NUMBERS)\n    parallel_time=0\n    for i in range(NUM_EVAL_RUNS):\n        start=time.perf_counter()\n        par_download_images(IMAGE_NUMBERS)\n        parallel_time += time.perf_counter() -start\n    parallel_time /= NUM_EVAL_RUNS\n    \n    if sequential_result != parallel_result:\n        raise Exception ('sequential_result and parallel_result do not match. ')\n    print('Average Sequential Time: {:.2f} ms'.format(sequential_time*1000))\n    print('Average Parallel Time: {:.2f} ms'.format(parallel_time*1000))\n    print('Speedup: {:.2f}'.format(sequential_time/parallel_time))\n    print('Efficiency: {:.2f}%'.format(100*(sequential_time/parallel_time)/mp.cpu_count()))",
      "metadata": {
        "trusted": true
      },
      "execution_count": null,
      "outputs": [],
      "id": "e98699a2-843f-4e89-b5e4-54802f141971"
    },
    {
      "cell_type": "code",
      "source": "",
      "metadata": {},
      "execution_count": null,
      "outputs": [],
      "id": "7e771a77-1d92-48bf-b233-423c3b40dea8"
    }
  ]
}